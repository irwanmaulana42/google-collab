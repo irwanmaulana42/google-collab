{
  "nbformat": 4,
  "nbformat_minor": 0,
  "metadata": {
    "colab": {
      "name": "tb1.ipynb",
      "provenance": [],
      "collapsed_sections": [],
      "authorship_tag": "ABX9TyNBNkZpe5CkmeQ0BTPeblwY",
      "include_colab_link": true
    },
    "kernelspec": {
      "name": "python3",
      "display_name": "Python 3"
    },
    "language_info": {
      "name": "python"
    }
  },
  "cells": [
    {
      "cell_type": "markdown",
      "metadata": {
        "id": "view-in-github",
        "colab_type": "text"
      },
      "source": [
        "<a href=\"https://colab.research.google.com/github/irwanmaulana42/google-collab/blob/master/tb1.ipynb\" target=\"_parent\"><img src=\"https://colab.research.google.com/assets/colab-badge.svg\" alt=\"Open In Colab\"/></a>"
      ]
    },
    {
      "cell_type": "markdown",
      "source": [
        "Kelompok: <br>\n",
        "1. Irwan Maulana - 41519120030 <br>\n",
        "2. Laura Zulia Sofianah - 41519120015 <br>\n",
        "3. Devana Azzahra Salam - 415191....."
      ],
      "metadata": {
        "id": "-xMHxSNYc4d_"
      }
    },
    {
      "cell_type": "markdown",
      "source": [
        "Algoritma Decision Tree"
      ],
      "metadata": {
        "id": "zg5vZ8Yncwjf"
      }
    },
    {
      "cell_type": "code",
      "execution_count": 29,
      "metadata": {
        "colab": {
          "base_uri": "https://localhost:8080/"
        },
        "id": "0tYMP7fiVy0A",
        "outputId": "30be6d2e-1672-4b9a-fc1e-2593e729b332"
      },
      "outputs": [
        {
          "output_type": "stream",
          "name": "stdout",
          "text": [
            "HASIL OUTPUT:  ['Iris-setosa' 'Iris-versicolor' 'Iris-virginica' 'Iris-virginica']\n",
            "TEXT PRESENTATION:  |--- feature_3 <= 0.75\n",
            "|   |--- class: Iris-setosa\n",
            "|--- feature_3 >  0.75\n",
            "|   |--- feature_3 <= 1.65\n",
            "|   |   |--- class: Iris-versicolor\n",
            "|   |--- feature_3 >  1.65\n",
            "|   |   |--- class: Iris-virginica\n",
            "\n"
          ]
        }
      ],
      "source": [
        "from sklearn.tree import DecisionTreeClassifier\n",
        "from sklearn import tree\n",
        "import json\n",
        "from urllib.request import urlopen\n",
        "\n",
        "\n",
        "def extractJson(value, types):\n",
        "  if(types == 'X_train'):\n",
        "    return [value['panjang_sepal'], value['lebar_sepal'], value['panjang_kelopak'], value['lebar_kelopak']]\n",
        "  else:\n",
        "    return value['label']\n",
        "\n",
        "f = urlopen('https://raw.githubusercontent.com/irwanmaulana42/google-collab/master/sample_data.json')\n",
        "myfile = f.read()\n",
        "sample_data = json.loads(myfile);\n",
        "\n",
        "X_train = list(map(lambda value: extractJson(value, types='X_train'), sample_data))\n",
        "Y_train = list(map(lambda value: extractJson(value, types='Y_train'), sample_data))\n",
        "\n",
        "TreeClassifier = DecisionTreeClassifier();\n",
        "\n",
        "TreeClassifier.fit(X_train, Y_train)\n",
        "\n",
        "unlabelled = [[5.4, 3.9, 1.7, 0.4], [5.2, 2.7, 3.9, 1.4], [7.6, 3, 6.6, 2.1], [6.3, 2.7, 4.9, 1.8]]\n",
        "\n",
        "hasil = TreeClassifier.predict(unlabelled)\n",
        "\n",
        "print(\"HASIL OUTPUT: \", hasil)\n",
        "\n",
        "text_representation = tree.export_text(TreeClassifier)\n",
        "print(\"TEXT PRESENTATION: \", text_representation)"
      ]
    },
    {
      "cell_type": "markdown",
      "source": [
        "Algoritma k-NN"
      ],
      "metadata": {
        "id": "MCimJo4vn0pi"
      }
    },
    {
      "cell_type": "code",
      "source": [
        "from sklearn.neighbors import KNeighborsClassifier\n",
        "import json\n",
        "from urllib.request import urlopen\n",
        "\n",
        "def extractJson(value, types):\n",
        "  if(types == 'X_train'):\n",
        "    return [value['panjang_sepal'], value['lebar_sepal'], value['panjang_kelopak'], value['lebar_kelopak']]\n",
        "  else:\n",
        "    return value['label']\n",
        "\n",
        "f = urlopen('https://raw.githubusercontent.com/irwanmaulana42/google-collab/master/sample_data.json')\n",
        "myfile = f.read()\n",
        "sample_data = json.loads(myfile);\n",
        "\n",
        "X_train = list(map(lambda value: extractJson(value, types='X_train'), sample_data))\n",
        "Y_train = list(map(lambda value: extractJson(value, types='Y_train'), sample_data))\n",
        "\n",
        "kNNClassifier = KNeighborsClassifier(n_neighbors=1);\n",
        "\n",
        "kNNClassifier.fit(X_train, Y_train)\n",
        "\n",
        "unlabelled = [[5.4, 3.9, 1.7, 0.4], [5.2, 2.7, 3.9, 1.4], [7.6, 3, 6.6, 2.1], [6.3, 2.7, 4.9, 1.8]]\n",
        "\n",
        "hasil = kNNClassifier.predict(unlabelled)\n",
        "\n",
        "print(\"HASIL OUTPUT: \", hasil)"
      ],
      "metadata": {
        "colab": {
          "base_uri": "https://localhost:8080/"
        },
        "id": "RyNclBT9n3Cd",
        "outputId": "b8adf110-e9c5-4b6b-d1c4-0082a8461571"
      },
      "execution_count": 28,
      "outputs": [
        {
          "output_type": "stream",
          "name": "stdout",
          "text": [
            "HASIL OUTPUT:  ['Iris-setosa' 'Iris-versicolor' 'Iris-virginica' 'Iris-versicolor']\n"
          ]
        }
      ]
    }
  ]
}