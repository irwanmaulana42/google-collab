{
  "nbformat": 4,
  "nbformat_minor": 0,
  "metadata": {
    "colab": {
      "name": "pertemuan 13.ipynb",
      "provenance": [],
      "authorship_tag": "ABX9TyOZR5HxSXe8VQ2Fq9sdnmqu",
      "include_colab_link": true
    },
    "kernelspec": {
      "name": "python3",
      "display_name": "Python 3"
    },
    "language_info": {
      "name": "python"
    }
  },
  "cells": [
    {
      "cell_type": "markdown",
      "metadata": {
        "id": "view-in-github",
        "colab_type": "text"
      },
      "source": [
        "<a href=\"https://colab.research.google.com/github/irwanmaulana42/google-collab/blob/master/pertemuan_13.ipynb\" target=\"_parent\"><img src=\"https://colab.research.google.com/assets/colab-badge.svg\" alt=\"Open In Colab\"/></a>"
      ]
    },
    {
      "cell_type": "markdown",
      "source": [
        "Nama : Irwan Maulana <br>\n",
        "NIM : 41519120030"
      ],
      "metadata": {
        "id": "EL4DZncNDycO"
      }
    },
    {
      "cell_type": "code",
      "execution_count": 3,
      "metadata": {
        "colab": {
          "base_uri": "https://localhost:8080/"
        },
        "id": "71eRSGTNDv2B",
        "outputId": "174596f7-3a75-4bae-a22d-d1e6e8e5b791"
      },
      "outputs": [
        {
          "output_type": "stream",
          "name": "stdout",
          "text": [
            "['versicolor']\n"
          ]
        }
      ],
      "source": [
        "from sklearn import svm\n",
        "\n",
        "X = [[5.1, 3.5, 1.4, 0.2],\n",
        "     [4.9, 3.0, 1.4, 0.2],\n",
        "     [7.0, 3.2, 4.7, 1.4],\n",
        "     [6.4, 3.2, 4.5, 1.5],\n",
        "     [6.3, 3.3, 6.0, 2.5],\n",
        "     [5.8, 2.7, 5.1, 1.9]]\n",
        "\n",
        "y = ['setosa', 'setosa', 'versicolor', 'versicolor', 'virginica', 'virginica']\n",
        "\n",
        "per_clf = svm.SVC()\n",
        "per_clf.fit(X, y)\n",
        "\n",
        "unlabelled = [[6.5, 2.8, 4.6, 1.5]]\n",
        "\n",
        "y_pred = per_clf.predict(unlabelled)\n",
        "print(y_pred)"
      ]
    }
  ]
}