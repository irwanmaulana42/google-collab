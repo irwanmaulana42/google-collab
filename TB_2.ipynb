{
  "nbformat": 4,
  "nbformat_minor": 0,
  "metadata": {
    "colab": {
      "name": "TB 2.ipynb",
      "provenance": [],
      "collapsed_sections": [],
      "authorship_tag": "ABX9TyPL9ORNdMwLz8It8CE3irrA",
      "include_colab_link": true
    },
    "kernelspec": {
      "name": "python3",
      "display_name": "Python 3"
    },
    "language_info": {
      "name": "python"
    }
  },
  "cells": [
    {
      "cell_type": "markdown",
      "metadata": {
        "id": "view-in-github",
        "colab_type": "text"
      },
      "source": [
        "<a href=\"https://colab.research.google.com/github/irwanmaulana42/google-collab/blob/master/TB_2.ipynb\" target=\"_parent\"><img src=\"https://colab.research.google.com/assets/colab-badge.svg\" alt=\"Open In Colab\"/></a>"
      ]
    },
    {
      "cell_type": "markdown",
      "source": [
        "# TB 2"
      ],
      "metadata": {
        "id": "WkNfh-DdAyYe"
      }
    },
    {
      "cell_type": "markdown",
      "source": [
        "**Metode Algoritma k-NN**"
      ],
      "metadata": {
        "id": "QYdQc8cHbDoz"
      }
    },
    {
      "cell_type": "code",
      "execution_count": 47,
      "metadata": {
        "colab": {
          "base_uri": "https://localhost:8080/"
        },
        "id": "XJaL0wbmAuQp",
        "outputId": "b6d541a7-384f-4650-ef04-fc45055c898a"
      },
      "outputs": [
        {
          "output_type": "stream",
          "name": "stdout",
          "text": [
            "Metode k-NN dengan nilai K =  4\n",
            "\n",
            "   Training Accuracy\n",
            "0           0.771930\n",
            "1           0.912281\n",
            "2           0.929825\n",
            "3           0.859649\n",
            "4           0.964912\n",
            "5           0.947368\n",
            "6           0.947368\n",
            "7           0.964912\n",
            "8           0.912281\n",
            "9           0.964286\n",
            "\n",
            "   Nilai Rata-rata\n",
            "0         0.917481\n",
            "\n",
            "   Standar Deviasi\n",
            "0         0.060748\n"
          ]
        }
      ],
      "source": [
        "import pandas as pd\n",
        "import numpy as np\n",
        "import json\n",
        "from sklearn.model_selection import KFold\n",
        "from sklearn.model_selection import train_test_split\n",
        "from sklearn.neighbors import KNeighborsClassifier\n",
        "from sklearn import preprocessing\n",
        "import statistics\n",
        "\n",
        "df_new = pd.read_csv('https://raw.githubusercontent.com/irwanmaulana42/google-collab/master/dataset_breast_cancer_wisconsin_tb2.csv', header=None, dtype=None, skiprows=1)\n",
        "# pd.DataFrame(data=df_new)\n",
        "label = df_new[1].to_numpy()\n",
        "data = df_new.iloc[:,2:len(df_new)-1].to_numpy()\n",
        "\n",
        "kf = KFold(n_splits=10)\n",
        "nilai_k = 4\n",
        "clf = KNeighborsClassifier(n_neighbors=nilai_k)\n",
        "\n",
        "print(\"Metode k-NN dengan nilai K = \", nilai_k)\n",
        "print(\"\")\n",
        "\n",
        "dataTemp = list();\n",
        "for train_index, test_index in kf.split(data):\n",
        "  X_train, X_test = data[train_index], data[test_index]\n",
        "  y_train, y_test = label[train_index], label[test_index]\n",
        "\n",
        "  clf.fit(X_train, y_train)\n",
        "  res = clf.score(X_test, y_test)\n",
        "  dataTemp.append(res)\n",
        "\n",
        "t1 = pd.DataFrame(data=dataTemp, columns=['Training Accuracy'])\n",
        "print(t1)\n",
        "print(\"\")\n",
        "\n",
        "# rata-rata\n",
        "mean = list()\n",
        "mean.append(statistics.mean(dataTemp))\n",
        "t2 = pd.DataFrame(data=mean, columns=['Nilai Rata-rata'])\n",
        "print(t2)\n",
        "print(\"\")\n",
        "\n",
        "# Standar Deviasi\n",
        "stdev = list()\n",
        "stdev.append(statistics.stdev(dataTemp))\n",
        "t3 = pd.DataFrame(data=stdev, columns=['Standar Deviasi'])\n",
        "print(t3)"
      ]
    },
    {
      "cell_type": "markdown",
      "source": [
        "**Metode Algoritma Decision Tree**"
      ],
      "metadata": {
        "id": "GWO9xFFKa5hC"
      }
    },
    {
      "cell_type": "code",
      "source": [
        "import pandas as pd\n",
        "import numpy as np\n",
        "import json\n",
        "from sklearn.model_selection import KFold\n",
        "from sklearn.model_selection import train_test_split\n",
        "from sklearn.tree import DecisionTreeClassifier\n",
        "from sklearn import preprocessing\n",
        "import statistics\n",
        "\n",
        "df_new = pd.read_csv('https://raw.githubusercontent.com/irwanmaulana42/google-collab/master/dataset_breast_cancer_wisconsin_tb2.csv', header=None, dtype=None, skiprows=1)\n",
        "\n",
        "label = df_new[1].to_numpy()\n",
        "data = df_new.iloc[:,2:len(df_new)-1].to_numpy()\n",
        "\n",
        "kf = KFold(n_splits=10)\n",
        "\n",
        "clf = DecisionTreeClassifier(max_depth=4);\n",
        "\n",
        "print(\"Metode Algoritma Decision Tree\")\n",
        "print(\"\")\n",
        "\n",
        "dataTemp = list();\n",
        "for train_index, test_index in kf.split(data):\n",
        "  X_train, X_test = data[train_index], data[test_index]\n",
        "  y_train, y_test = label[train_index], label[test_index]\n",
        "\n",
        "  clf.fit(X_train, y_train)\n",
        "  res = clf.score(X_test, y_test)\n",
        "  dataTemp.append(res)\n",
        "\n",
        "t1 = pd.DataFrame(data=dataTemp, columns=['Training Accuracy'])\n",
        "print(t1)\n",
        "print(\"\")\n",
        "\n",
        "# rata-rata\n",
        "mean = list()\n",
        "mean.append(statistics.mean(dataTemp))\n",
        "t2 = pd.DataFrame(data=mean, columns=['Nilai Rata-rata'])\n",
        "print(t2)\n",
        "print(\"\")\n",
        "\n",
        "# Standar Deviasi\n",
        "stdev = list()\n",
        "stdev.append(statistics.stdev(dataTemp))\n",
        "t3 = pd.DataFrame(data=stdev, columns=['Standar Deviasi'])\n",
        "print(t3)"
      ],
      "metadata": {
        "colab": {
          "base_uri": "https://localhost:8080/"
        },
        "id": "ApPV85ipa4Av",
        "outputId": "9fe9737d-8864-4afb-8dd9-7ca7db527945"
      },
      "execution_count": 49,
      "outputs": [
        {
          "output_type": "stream",
          "name": "stdout",
          "text": [
            "Metode Algoritma Decision Tree\n",
            "\n",
            "   Training Accuracy\n",
            "0           0.894737\n",
            "1           0.894737\n",
            "2           0.929825\n",
            "3           0.982456\n",
            "4           0.929825\n",
            "5           0.982456\n",
            "6           0.929825\n",
            "7           0.964912\n",
            "8           0.982456\n",
            "9           0.946429\n",
            "\n",
            "   Nilai Rata-rata\n",
            "0         0.943766\n",
            "\n",
            "   Standar Deviasi\n",
            "0         0.033888\n"
          ]
        }
      ]
    }
  ]
}