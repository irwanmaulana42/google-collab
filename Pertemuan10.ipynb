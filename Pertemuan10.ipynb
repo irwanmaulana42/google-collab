{
  "nbformat": 4,
  "nbformat_minor": 0,
  "metadata": {
    "colab": {
      "name": "Pertemuan10.ipynb",
      "provenance": [],
      "collapsed_sections": [],
      "authorship_tag": "ABX9TyP4GALCabbtTwxBt3Pz2Eu/",
      "include_colab_link": true
    },
    "kernelspec": {
      "name": "python3",
      "display_name": "Python 3"
    },
    "language_info": {
      "name": "python"
    }
  },
  "cells": [
    {
      "cell_type": "markdown",
      "metadata": {
        "id": "view-in-github",
        "colab_type": "text"
      },
      "source": [
        "<a href=\"https://colab.research.google.com/github/irwanmaulana42/google-collab/blob/master/Pertemuan10.ipynb\" target=\"_parent\"><img src=\"https://colab.research.google.com/assets/colab-badge.svg\" alt=\"Open In Colab\"/></a>"
      ]
    },
    {
      "cell_type": "markdown",
      "source": [
        "Nama : Irwan Maulana <br>\n",
        "NIM : 41519120030"
      ],
      "metadata": {
        "id": "uhLWP3g2oYka"
      }
    },
    {
      "cell_type": "code",
      "execution_count": 9,
      "metadata": {
        "colab": {
          "base_uri": "https://localhost:8080/",
          "height": 590
        },
        "id": "eAxkPgWyoWNM",
        "outputId": "7204d384-b35b-4f82-e8c9-1c15a7143ce3"
      },
      "outputs": [
        {
          "output_type": "stream",
          "name": "stdout",
          "text": [
            "Nilai prediksi vs nilai sebenarnya\n",
            "    Actual  Predicted\n",
            "0       20  14.973540\n",
            "1       27  31.811747\n",
            "2       69  73.412023\n",
            "3       30  24.878368\n",
            "4       62  58.554782\n",
            "5       35  37.754644\n",
            "6       24  18.935471\n",
            "7       86  77.373954\n",
            "8       76  68.459609\n",
            "9       17  11.011609\n",
            "10      47  50.630920\n",
            "11      85  76.383471\n",
            "12      42  32.802230\n",
            "Hasil dari Men Square Error: \n",
            "36.79818619498557\n"
          ]
        },
        {
          "output_type": "display_data",
          "data": {
            "text/plain": [
              "<Figure size 432x288 with 1 Axes>"
            ],
            "image/png": "[encoded data removed]"
          },
          "metadata": {
            "needs_background": "light"
          }
        }
      ],
      "source": [
        "import pandas as pd\n",
        "import numpy as np\n",
        "import matplotlib.pyplot as plt\n",
        "import io\n",
        "from sklearn.model_selection import train_test_split\n",
        "from sklearn.linear_model import LinearRegression\n",
        "from sklearn.metrics import mean_squared_error, r2_score\n",
        "\n",
        "dataset = pd.read_csv(\"https://raw.githubusercontent.com/irwanmaulana42/google-collab/master/student_scores.csv\", header=None, delimiter=\";\")\n",
        "\n",
        "X = dataset.iloc[:, :-1].values\n",
        "y = dataset.iloc[:, 1].values\n",
        "X_train, X_test, y_train, y_test = train_test_split(X, y, test_size=0.5, random_state=0)\n",
        "\n",
        "regressor = LinearRegression()\n",
        "regressor.fit(X_train, y_train)\n",
        "\n",
        "y_pred = regressor.predict(X_test)\n",
        "df = pd.DataFrame({'Actual': y_test, 'Predicted': y_pred})\n",
        "print(\"Nilai prediksi vs nilai sebenarnya\")\n",
        "print(df)\n",
        "\n",
        "print(\"Hasil dari Men Square Error: \")\n",
        "print(mean_squared_error(y_test, y_pred))\n",
        "\n",
        "plt.scatter(X_test, y_test, color='black')\n",
        "plt.plot(X_test, y_pred, color='red', linewidth=3)\n",
        "plt.title('Hours vs Percentage')\n",
        "plt.xlabel('Hours Studied')\n",
        "plt.ylabel('Percentage Score')\n",
        "plt.show()"
      ]
    },
    {
      "cell_type": "markdown",
      "source": [
        ""
      ],
      "metadata": {
        "id": "lRewCw9Du9mZ"
      }
    }
  ]
}