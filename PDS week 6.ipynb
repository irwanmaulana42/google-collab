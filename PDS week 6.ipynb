{
  "nbformat": 4,
  "nbformat_minor": 0,
  "metadata": {
    "colab": {
      "provenance": [],
      "authorship_tag": "ABX9TyPdzbTMWLLj2Cp5iHONE2CQ",
      "include_colab_link": true
    },
    "kernelspec": {
      "name": "python3",
      "display_name": "Python 3"
    },
    "language_info": {
      "name": "python"
    }
  },
  "cells": [
    {
      "cell_type": "markdown",
      "metadata": {
        "id": "view-in-github",
        "colab_type": "text"
      },
      "source": [
        "<a href=\"https://colab.research.google.com/github/irwanmaulana42/google-collab/blob/master/PDS%20week%206.ipynb\" target=\"_parent\"><img src=\"https://colab.research.google.com/assets/colab-badge.svg\" alt=\"Open In Colab\"/></a>"
      ]
    },
    {
      "cell_type": "markdown",
      "source": [
        "**1. Hello World**"
      ],
      "metadata": {
        "id": "erEt1FjF8QxM"
      }
    },
    {
      "cell_type": "code",
      "execution_count": 1,
      "metadata": {
        "colab": {
          "base_uri": "https://localhost:8080/"
        },
        "id": "GS6ZBFsZ8LkZ",
        "outputId": "3b6cf7e4-41a2-40a5-9dfb-0311781f10bc"
      },
      "outputs": [
        {
          "output_type": "stream",
          "name": "stdout",
          "text": [
            "This line will be printed.\n",
            "x is 1.\n",
            "Hello, World!\n"
          ]
        }
      ],
      "source": [
        "# Menampilkan output dengan fungsi print\n",
        "# IF berfungsi sebagai percabangan\n",
        "\n",
        "print(\"This line will be printed.\")\n",
        "\n",
        "x = 1\n",
        "if x == 1:\n",
        "  print(\"x is 1.\")\n",
        "\n",
        "print(\"Hello, World!\")"
      ]
    },
    {
      "cell_type": "markdown",
      "source": [
        "**2. Variable and Types**"
      ],
      "metadata": {
        "id": "XcK8wW3d89My"
      }
    },
    {
      "cell_type": "code",
      "source": [
        "# Tipe data Float\n",
        "myint = 7\n",
        "print(myint)\n",
        "myfloat = 7.0\n",
        "print(myfloat)\n",
        "\n",
        "# Tipe data String\n",
        "mystring = 'hello'\n",
        "print(mystring)\n",
        "mystring = \"hello\"\n",
        "print(mystring)\n",
        "\n",
        "# Merubah isi dari variable mystring\n",
        "mystring = \"Dont't worry about apostrophes\"\n",
        "print(mystring)\n",
        "\n",
        "# Operasi penjumlahan 2 variable\n",
        "one = 1\n",
        "two = 2\n",
        "three = one + two\n",
        "print(three)\n",
        "\n",
        "# menggabungkan 2 variabel\n",
        "hello = 'hello'\n",
        "world = 'world'\n",
        "helloworld = hello + \" \" + world\n",
        "print(helloworld)\n",
        "\n",
        "# mengubah variabel menjadi None\n",
        "mystring = None\n",
        "myfloat = None\n",
        "myint = None\n",
        "\n",
        "# Percabangan untuk menentukan kondisional dari tiap variabel\n",
        "if mystring == \"hello\":\n",
        "  print(\"String: %s\" % mystring)\n",
        "if isinstance(myfloat, float) and myfloat == 10.0:\n",
        "  print(\"Float: %f\" % myfloat)\n",
        "if isinstance(myint, int) and myint == 20:\n",
        "  print(\"Integer: %d\" % myint)"
      ],
      "metadata": {
        "colab": {
          "base_uri": "https://localhost:8080/"
        },
        "id": "ggCj_wfR9D6H",
        "outputId": "a2526817-d6c1-4acb-8a3f-50c271e2d4ba"
      },
      "execution_count": 2,
      "outputs": [
        {
          "output_type": "stream",
          "name": "stdout",
          "text": [
            "7\n",
            "7.0\n",
            "hello\n",
            "hello\n",
            "Dont't worry about apostrophes\n",
            "3\n",
            "hello world\n"
          ]
        }
      ]
    },
    {
      "cell_type": "markdown",
      "source": [
        "**3. Lists**"
      ],
      "metadata": {
        "id": "_xw2AUAhIehq"
      }
    },
    {
      "cell_type": "code",
      "source": [
        "# Array digunakan untuk menyimpan data ke dalam 1 variabel\n",
        "mylist = []\n",
        "mylist.append(1)\n",
        "mylist.append(2)\n",
        "mylist.append(3)\n",
        "print(mylist[0])\n",
        "print(mylist[1])\n",
        "print(mylist[2])\n",
        "\n",
        "# For digunakan untuk melakukan sebuah perulangan\n",
        "for x in mylist:\n",
        "  print(x)\n",
        "\n",
        "# Akan terjadi error karena out of range dari nilai dalam array\n",
        "mylist = [1,2,3]\n",
        "# print(mylist[10])\n",
        "\n",
        "# Deklarasi variable numbers, strings dengan tipe data array\n",
        "numbers = []\n",
        "strings = []\n",
        "names = [\"John\", \"Eric\", \"Jessica\"]\n",
        "\n",
        "numbers.append(1)\n",
        "numbers.append(2)\n",
        "numbers.append(3)\n",
        "\n",
        "strings.append(\"hello\")\n",
        "strings.append(\"world\")\n",
        "\n",
        "second_name = names[1]\n",
        "# Menampilkan hasil output\n",
        "print(numbers)\n",
        "print(strings)\n",
        "print(\"The second name on the names list is %s\"  % second_name)\n"
      ],
      "metadata": {
        "colab": {
          "base_uri": "https://localhost:8080/"
        },
        "id": "nzDCTapHIhri",
        "outputId": "938d61a0-8558-42e0-b588-ad61831b8468"
      },
      "execution_count": 6,
      "outputs": [
        {
          "output_type": "stream",
          "name": "stdout",
          "text": [
            "1\n",
            "2\n",
            "3\n",
            "1\n",
            "2\n",
            "3\n",
            "[1, 2, 3]\n",
            "['hello', 'world']\n",
            "The second name on the names list is Eric\n"
          ]
        }
      ]
    },
    {
      "cell_type": "markdown",
      "source": [
        "**4. Basic Operators**"
      ],
      "metadata": {
        "id": "K6jwKHOwJIlj"
      }
    },
    {
      "cell_type": "code",
      "source": [
        "# Melakukan operasi aritmatika\n",
        "number = 1 + 2 * 3 / 4.0\n",
        "print(number)\n",
        "\n",
        "# Mencari nilai modulus\n",
        "remainder = 11 % 3\n",
        "print(remainder)\n",
        "# nilai bilangan berpangkat\n",
        "squared = 7 ** 2\n",
        "cubed = 2 ** 3\n",
        "print(squared)\n",
        "print(cubed)\n",
        "# Concat string\n",
        "helloworld = \"hello\" + \" \" + \"world\"\n",
        "print(helloworld)\n",
        "# Melakukan pengulangan string sebanyak 10x\n",
        "lotsofhellos = \"hello\" * 10\n",
        "print(lotsofhellos)\n",
        "# Append nilai array \n",
        "even_numbers = [2,4,6,8]\n",
        "odd_numbers = [1,3,5,7]\n",
        "all_numbers = odd_numbers + even_numbers\n",
        "print(all_numbers)\n",
        "# Melakukan pengulangan nilai array sebanyak 3x\n",
        "print([1,2,3] * 3)\n",
        "\n",
        "# deklarasi variabel x,y dengan tipe data object\n",
        "x = object()\n",
        "y = object\n",
        "\n",
        "x_list = [x] * 10\n",
        "y_list = [y] * 10\n",
        "big_list = x_list + y_list\n",
        "\n",
        "print(\"x_list contains %d objects\" % len(x_list))\n",
        "print(\"y_list contains %d objects\" % len(y_list))\n",
        "print(\"big_list contains %d objects\" % len(big_list))\n",
        "\n",
        "\n",
        "if x_list.count(x) == 10 and y_list.count(y) == 10:\n",
        "  print(\"Almost there...\")\n",
        "if big_list.count(x) == 10 and big_list.count(y) == 10:\n",
        "  print(\"Great\")\n",
        "\n",
        "\n"
      ],
      "metadata": {
        "colab": {
          "base_uri": "https://localhost:8080/"
        },
        "id": "er4hhivtJ05i",
        "outputId": "b8e8faf8-2d0f-44a1-e41c-bece622c1149"
      },
      "execution_count": 7,
      "outputs": [
        {
          "output_type": "stream",
          "name": "stdout",
          "text": [
            "2.5\n",
            "2\n",
            "49\n",
            "8\n",
            "hello world\n",
            "hellohellohellohellohellohellohellohellohellohello\n",
            "[1, 3, 5, 7, 2, 4, 6, 8]\n",
            "[1, 2, 3, 1, 2, 3, 1, 2, 3]\n",
            "x_list contains 10 objects\n",
            "y_list contains 10 objects\n",
            "big_list contains 20 objects\n",
            "Almost there...\n",
            "Great\n"
          ]
        }
      ]
    }
  ]
}