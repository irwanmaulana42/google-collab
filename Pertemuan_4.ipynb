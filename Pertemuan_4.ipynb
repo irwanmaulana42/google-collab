{
  "nbformat": 4,
  "nbformat_minor": 0,
  "metadata": {
    "colab": {
      "name": "Pertemuan 4.ipynb",
      "provenance": [],
      "collapsed_sections": [],
      "authorship_tag": "ABX9TyMRMn4o9ub/xtoZxeTk/pDY",
      "include_colab_link": true
    },
    "kernelspec": {
      "name": "python3",
      "display_name": "Python 3"
    },
    "language_info": {
      "name": "python"
    }
  },
  "cells": [
    {
      "cell_type": "markdown",
      "metadata": {
        "id": "view-in-github",
        "colab_type": "text"
      },
      "source": [
        "<a href=\"https://colab.research.google.com/github/irwanmaulana42/google-collab/blob/master/Pertemuan_4.ipynb\" target=\"_parent\"><img src=\"https://colab.research.google.com/assets/colab-badge.svg\" alt=\"Open In Colab\"/></a>"
      ]
    },
    {
      "cell_type": "markdown",
      "source": [
        "Nama: Irwan Maulana\n",
        "<br>\n",
        "NIM: 41519120030\n",
        "<br>\n",
        "Pertemuan 4"
      ],
      "metadata": {
        "id": "ECvUt1_XiJhY"
      }
    },
    {
      "cell_type": "code",
      "execution_count": 7,
      "metadata": {
        "colab": {
          "base_uri": "https://localhost:8080/"
        },
        "id": "pXMzUts3iGAt",
        "outputId": "08fcf715-f760-4d92-e50f-eecebc23bc21"
      },
      "outputs": [
        {
          "output_type": "stream",
          "name": "stdout",
          "text": [
            "['manusia' 'sapi' 'manusia']\n"
          ]
        }
      ],
      "source": [
        "from sklearn.neighbors import KNeighborsClassifier\n",
        "\n",
        "X_train = [[2,2,50], [2,2,45], [4,0,300], [4,0,255]]\n",
        "Y_train = [\"manusia\", \"manusia\", \"sapi\", \"sapi\"]\n",
        "\n",
        "near = KNeighborsClassifier(n_neighbors=1)\n",
        "\n",
        "near.fit(X_train, Y_train)\n",
        "\n",
        "unlabelled = [[2,2,30], [4,0,332], [4,0,150]]\n",
        "\n",
        "hasil = near.predict(unlabelled)\n",
        "\n",
        "print(hasil)"
      ]
    }
  ]
}