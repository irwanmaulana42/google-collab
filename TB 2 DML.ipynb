{
  "nbformat": 4,
  "nbformat_minor": 0,
  "metadata": {
    "colab": {
      "provenance": [],
      "authorship_tag": "ABX9TyOL2GNjmr62NhaoRSRiWV3u",
      "include_colab_link": true
    },
    "kernelspec": {
      "name": "python3",
      "display_name": "Python 3"
    },
    "language_info": {
      "name": "python"
    }
  },
  "cells": [
    {
      "cell_type": "markdown",
      "metadata": {
        "id": "view-in-github",
        "colab_type": "text"
      },
      "source": [
        "<a href=\"https://colab.research.google.com/github/irwanmaulana42/google-collab/blob/master/TB%202%20DML.ipynb\" target=\"_parent\"><img src=\"https://colab.research.google.com/assets/colab-badge.svg\" alt=\"Open In Colab\"/></a>"
      ]
    },
    {
      "cell_type": "markdown",
      "source": [
        "**No 1**"
      ],
      "metadata": {
        "id": "467NwrXiwIU6"
      }
    },
    {
      "cell_type": "markdown",
      "source": [],
      "metadata": {
        "id": "J-BZoRd74MNd"
      }
    },
    {
      "cell_type": "code",
      "execution_count": null,
      "metadata": {
        "id": "aDHPidWswIU6"
      },
      "outputs": [],
      "source": [
        "# a. Seaborn displot (data x= wheel-base, hue= body-style)\n",
        "# b. Seaborn hisplot (data x= wheel-base, hue= make)\n",
        "\n"
      ]
    },
    {
      "cell_type": "markdown",
      "source": [
        "**No 2**"
      ],
      "metadata": {
        "id": "32yg3tNSvuZJ"
      }
    },
    {
      "cell_type": "code",
      "execution_count": null,
      "metadata": {
        "id": "QnIn6YSrf4pL"
      },
      "outputs": [],
      "source": [
        "# a. Type: mercator\n",
        "# b. Type: stereographic\n",
        "# c. Type: robinson\n",
        "# d. Type: natural earth\n",
        "\n"
      ]
    },
    {
      "cell_type": "markdown",
      "source": [
        "**No 3**"
      ],
      "metadata": {
        "id": "2G1Mn_jBwOSz"
      }
    },
    {
      "cell_type": "code",
      "execution_count": null,
      "metadata": {
        "id": "iDJPCDk-wOSz"
      },
      "outputs": [],
      "source": [
        "# Tentukan nilai train dan predict untuk regresi linier terhadap data berikut\n",
        "# Bedasarkan price dan bedroom\n",
        "\n"
      ]
    }
  ]
}