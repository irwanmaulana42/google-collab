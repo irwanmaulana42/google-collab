{
  "nbformat": 4,
  "nbformat_minor": 0,
  "metadata": {
    "colab": {
      "provenance": [],
      "authorship_tag": "ABX9TyPyPA3yljYtQ1UA4cg6KT01",
      "include_colab_link": true
    },
    "kernelspec": {
      "name": "python3",
      "display_name": "Python 3"
    },
    "language_info": {
      "name": "python"
    }
  },
  "cells": [
    {
      "cell_type": "markdown",
      "metadata": {
        "id": "view-in-github",
        "colab_type": "text"
      },
      "source": [
        "<a href=\"https://colab.research.google.com/github/irwanmaulana42/google-collab/blob/master/Gaussian%20Distribution%20Deep%20Learning%20klasifikasi%20gambar.ipynb\" target=\"_parent\"><img src=\"https://colab.research.google.com/assets/colab-badge.svg\" alt=\"Open In Colab\"/></a>"
      ]
    },
    {
      "cell_type": "code",
      "execution_count": 2,
      "metadata": {
        "colab": {
          "base_uri": "https://localhost:8080/"
        },
        "id": "8QktxA5ezdPJ",
        "outputId": "797ecd67-d1aa-45a5-cf4e-73b20cc1fe35"
      },
      "outputs": [
        {
          "output_type": "stream",
          "name": "stdout",
          "text": [
            "Epoch 1/10\n",
            "1875/1875 [==============================] - 11s 5ms/step - loss: 0.3130 - accuracy: 0.9091 - val_loss: 0.1671 - val_accuracy: 0.9498\n",
            "Epoch 2/10\n",
            "1875/1875 [==============================] - 10s 5ms/step - loss: 0.1498 - accuracy: 0.9552 - val_loss: 0.1294 - val_accuracy: 0.9623\n",
            "Epoch 3/10\n",
            "1875/1875 [==============================] - 9s 5ms/step - loss: 0.1140 - accuracy: 0.9652 - val_loss: 0.1069 - val_accuracy: 0.9677\n",
            "Epoch 4/10\n",
            "1875/1875 [==============================] - 8s 4ms/step - loss: 0.0954 - accuracy: 0.9701 - val_loss: 0.0931 - val_accuracy: 0.9724\n",
            "Epoch 5/10\n",
            "1875/1875 [==============================] - 9s 5ms/step - loss: 0.0801 - accuracy: 0.9742 - val_loss: 0.0913 - val_accuracy: 0.9723\n",
            "Epoch 6/10\n",
            "1875/1875 [==============================] - 8s 4ms/step - loss: 0.0710 - accuracy: 0.9770 - val_loss: 0.0882 - val_accuracy: 0.9729\n",
            "Epoch 7/10\n",
            "1875/1875 [==============================] - 8s 4ms/step - loss: 0.0644 - accuracy: 0.9797 - val_loss: 0.0862 - val_accuracy: 0.9736\n",
            "Epoch 8/10\n",
            "1875/1875 [==============================] - 8s 4ms/step - loss: 0.0582 - accuracy: 0.9808 - val_loss: 0.0825 - val_accuracy: 0.9743\n",
            "Epoch 9/10\n",
            "1875/1875 [==============================] - 7s 4ms/step - loss: 0.0529 - accuracy: 0.9823 - val_loss: 0.0837 - val_accuracy: 0.9764\n",
            "Epoch 10/10\n",
            "1875/1875 [==============================] - 10s 5ms/step - loss: 0.0502 - accuracy: 0.9836 - val_loss: 0.0855 - val_accuracy: 0.9766\n",
            "313/313 [==============================] - 1s 2ms/step - loss: 0.0855 - accuracy: 0.9766\n"
          ]
        },
        {
          "output_type": "execute_result",
          "data": {
            "text/plain": [
              "[0.0855061337351799, 0.9765999913215637]"
            ]
          },
          "metadata": {},
          "execution_count": 2
        }
      ],
      "source": [
        "import tensorflow as tf\n",
        "from tensorflow.keras.datasets import mnist\n",
        "from tensorflow.keras.layers import Dense, Flatten, Input, GaussianNoise\n",
        "from tensorflow.keras.models import Model\n",
        "from tensorflow.keras.optimizers import Adam\n",
        "\n",
        "# Load MNIST dataset\n",
        "(x_train, y_train), (x_test, y_test) = mnist.load_data()\n",
        "\n",
        "# Normalize pixel values to range [0,1]\n",
        "x_train = x_train / 255.0\n",
        "x_test = x_test / 255.0\n",
        "\n",
        "# Reshape images to 28x28x1\n",
        "x_train = x_train.reshape((-1, 28, 28, 1))\n",
        "x_test = x_test.reshape((-1, 28, 28, 1))\n",
        "\n",
        "# Define input shape\n",
        "input_shape = x_train[0].shape\n",
        "\n",
        "# Define model architecture\n",
        "inputs = Input(shape=input_shape)\n",
        "x = GaussianNoise(0.1)(inputs)\n",
        "x = Flatten()(x)\n",
        "x = Dense(64, activation='relu')(x)\n",
        "x = Dense(32, activation='relu')(x)\n",
        "outputs = Dense(10, activation='softmax')(x)\n",
        "model = Model(inputs=inputs, outputs=outputs)\n",
        "\n",
        "# Compile model\n",
        "optimizer = Adam(learning_rate=0.001)\n",
        "model.compile(optimizer=optimizer, loss='categorical_crossentropy', metrics=['accuracy'])\n",
        "\n",
        "# Train model\n",
        "batch_size = 32\n",
        "epochs = 10\n",
        "history = model.fit(x_train, tf.one_hot(y_train, 10), batch_size=batch_size, epochs=epochs, validation_data=(x_test, tf.one_hot(y_test, 10)))\n",
        "\n",
        "# Evaluate model\n",
        "model.evaluate(x_test, tf.one_hot(y_test, 10))\n"
      ]
    }
  ]
}