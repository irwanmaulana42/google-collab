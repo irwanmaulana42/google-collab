{
  "nbformat": 4,
  "nbformat_minor": 0,
  "metadata": {
    "colab": {
      "name": "Pertemuan2.ipynb",
      "provenance": [],
      "collapsed_sections": [],
      "authorship_tag": "ABX9TyMK3Ddlu4Y7I3MoqwS+T4+d",
      "include_colab_link": true
    },
    "kernelspec": {
      "name": "python3",
      "display_name": "Python 3"
    },
    "language_info": {
      "name": "python"
    }
  },
  "cells": [
    {
      "cell_type": "markdown",
      "metadata": {
        "id": "view-in-github",
        "colab_type": "text"
      },
      "source": [
        "<a href=\"https://colab.research.google.com/github/irwanmaulana42/google-collab/blob/master/Pertemuan2.ipynb\" target=\"_parent\"><img src=\"https://colab.research.google.com/assets/colab-badge.svg\" alt=\"Open In Colab\"/></a>"
      ]
    },
    {
      "cell_type": "markdown",
      "source": [
        "#**Pertemuan 2 Machine Learning**\n",
        "Nama: Irwan Maulana\n",
        "<br>\n",
        "NIM: 41519120030"
      ],
      "metadata": {
        "id": "66mBq96Rj4Qp"
      }
    },
    {
      "cell_type": "markdown",
      "source": [
        "Library Numpy"
      ],
      "metadata": {
        "id": "6Y4LzvpXkPQ0"
      }
    },
    {
      "cell_type": "code",
      "execution_count": 4,
      "metadata": {
        "id": "TNiTl-DvibCh",
        "colab": {
          "base_uri": "https://localhost:8080/"
        },
        "outputId": "52506244-a4ef-4f21-f7dd-5cca7137e88e"
      },
      "outputs": [
        {
          "output_type": "stream",
          "name": "stdout",
          "text": [
            "[1 2 3]\n"
          ]
        }
      ],
      "source": [
        "import numpy as np\n",
        "test_array = np.array([1,2,3])\n",
        "print(test_array)"
      ]
    },
    {
      "cell_type": "markdown",
      "source": [
        "Library Pandas"
      ],
      "metadata": {
        "id": "HtHP0gxNkfxo"
      }
    },
    {
      "cell_type": "code",
      "source": [
        "import pandas as pd\n",
        "s = pd.Series([1,3,5,7,6,8])\n",
        "print(s)"
      ],
      "metadata": {
        "colab": {
          "base_uri": "https://localhost:8080/"
        },
        "id": "SOVlO4eakhwv",
        "outputId": "40743cad-b439-4659-b761-09c063f8f613"
      },
      "execution_count": 5,
      "outputs": [
        {
          "output_type": "stream",
          "name": "stdout",
          "text": [
            "0    1\n",
            "1    3\n",
            "2    5\n",
            "3    7\n",
            "4    6\n",
            "5    8\n",
            "dtype: int64\n"
          ]
        }
      ]
    },
    {
      "cell_type": "markdown",
      "source": [
        "Library scikit-learn"
      ],
      "metadata": {
        "id": "L8-a74Avk_oE"
      }
    },
    {
      "cell_type": "code",
      "source": [
        "import sklearn\n",
        "print(\"The scikit-learn version is {}.\".format(sklearn.__version__))"
      ],
      "metadata": {
        "colab": {
          "base_uri": "https://localhost:8080/"
        },
        "id": "bCcBe_rdlDny",
        "outputId": "8287215d-e388-45a1-c94e-9bdd85417f83"
      },
      "execution_count": 6,
      "outputs": [
        {
          "output_type": "stream",
          "name": "stdout",
          "text": [
            "The scikit-learn version is 1.0.2.\n"
          ]
        }
      ]
    },
    {
      "cell_type": "markdown",
      "source": [
        "Data Frame"
      ],
      "metadata": {
        "id": "06XXbqHJlZom"
      }
    },
    {
      "cell_type": "code",
      "source": [
        "import pandas as pd\n",
        "d = {'Kolom 1': [1,2,3,4,5], 'Kolom 2': [6,7,8,9,10]}\n",
        "e = {'Kolom 1': [11,12,13,14,15], 'Kolom 2': [16,17,18,19,20]}\n",
        "df = pd.DataFrame(data=d)\n",
        "df2 = pd.DataFrame(data=e)\n",
        "df_con = pd.concat([df, df2])\n",
        "print(df_con)"
      ],
      "metadata": {
        "colab": {
          "base_uri": "https://localhost:8080/"
        },
        "id": "dpNuaKhblsFV",
        "outputId": "faac6f50-f28d-4f19-f1b7-50bece4b1ef3"
      },
      "execution_count": 10,
      "outputs": [
        {
          "output_type": "stream",
          "name": "stdout",
          "text": [
            "   Kolom 1  Kolom 2\n",
            "0        1        6\n",
            "1        2        7\n",
            "2        3        8\n",
            "3        4        9\n",
            "4        5       10\n",
            "0       11       16\n",
            "1       12       17\n",
            "2       13       18\n",
            "3       14       19\n",
            "4       15       20\n"
          ]
        }
      ]
    },
    {
      "cell_type": "markdown",
      "source": [
        "Manipulasi Matriks"
      ],
      "metadata": {
        "id": "0QgTvQg2nDTO"
      }
    },
    {
      "cell_type": "code",
      "source": [
        "import pandas as pd\n",
        "\n",
        "d = {'Kolom 1': [1,2,3,4,5], 'Kolom 2': [6,7,8,9,10]}\n",
        "df = pd.DataFrame(data=d)\n",
        "\n",
        "print('Sebelum Transpose')\n",
        "print(df)\n",
        "\n",
        "df_trans = df.T\n",
        "\n",
        "print('Setelah Transpose')\n",
        "print(df_trans)"
      ],
      "metadata": {
        "colab": {
          "base_uri": "https://localhost:8080/"
        },
        "id": "dF-aCu81nEwb",
        "outputId": "32cb0b1c-dde7-426e-d535-7851e831bb08"
      },
      "execution_count": 11,
      "outputs": [
        {
          "output_type": "stream",
          "name": "stdout",
          "text": [
            "Sebelum Transpose\n",
            "   Kolom 1  Kolom 2\n",
            "0        1        6\n",
            "1        2        7\n",
            "2        3        8\n",
            "3        4        9\n",
            "4        5       10\n",
            "Setelah Transpose\n",
            "         0  1  2  3   4\n",
            "Kolom 1  1  2  3  4   5\n",
            "Kolom 2  6  7  8  9  10\n"
          ]
        }
      ]
    },
    {
      "cell_type": "markdown",
      "source": [
        "Perkalian Matriks"
      ],
      "metadata": {
        "id": "RBZQF4H6nmI_"
      }
    },
    {
      "cell_type": "code",
      "source": [
        "import pandas as pd\n",
        "\n",
        "df = pd.DataFrame(data=[[0, 1, -2, -1], [1, 1, 1, 1]])\n",
        "other = pd.DataFrame(data=[[0, 1], [1, 2], [-1, -1], [2, 0]])\n",
        "\n",
        "res = df.dot(other)\n",
        "\n",
        "print(res)"
      ],
      "metadata": {
        "colab": {
          "base_uri": "https://localhost:8080/"
        },
        "id": "fURgqgoXnnv_",
        "outputId": "5b89464a-2d78-4c21-a611-747e3b6642d3"
      },
      "execution_count": 12,
      "outputs": [
        {
          "output_type": "stream",
          "name": "stdout",
          "text": [
            "   0  1\n",
            "0  1  4\n",
            "1  2  2\n"
          ]
        }
      ]
    },
    {
      "cell_type": "markdown",
      "source": [
        "Plotting"
      ],
      "metadata": {
        "id": "smLAFih1oEpP"
      }
    },
    {
      "cell_type": "code",
      "source": [
        "import pandas as pd\n",
        "import matplotlib.pyplot as plt\n",
        "\n",
        "df = pd.DataFrame({\n",
        "    'Nama': ['Budi', 'Hasan', 'Made', 'Tretan', 'Coki', 'Jenie', 'Lisa'],\n",
        "    'Umur': [23, 78, 22, 19, 45, 33, 20],\n",
        "    'Gender': ['M', 'F', 'M', 'M', 'M', 'F', 'M'],\n",
        "    'jumlah_anak': [2, 0, 0, 3, 2, 1, 4],\n",
        "    'jumlah_hewan': [5, 1, 0, 5, 2, 2, 3],\n",
        "})\n",
        "\n",
        "# df.plot(kind='bar', x='Nama', y='jumlah_anak')\n",
        "\n",
        "ax = plt.gca()\n",
        "\n",
        "df.plot(kind='line', x='Nama', y='jumlah_hewan', ax=ax)\n",
        "df.plot(kind='line', x='Nama', y='jumlah_anak', color='red', ax=ax)\n",
        "\n",
        "plt.show();\n"
      ],
      "metadata": {
        "colab": {
          "base_uri": "https://localhost:8080/",
          "height": 279
        },
        "id": "_ecZhLsxoGRJ",
        "outputId": "0f5afe83-0dd7-4838-e7f6-3a3279b76516"
      },
      "execution_count": 22,
      "outputs": [
        {
          "output_type": "display_data",
          "data": {
            "text/plain": [
              "<Figure size 432x288 with 1 Axes>"
            ],
            "image/png": "[encoded data removed]"
          },
          "metadata": {
            "needs_background": "light"
          }
        }
      ]
    }
  ]
}