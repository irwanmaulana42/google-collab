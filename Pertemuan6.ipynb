{
  "nbformat": 4,
  "nbformat_minor": 0,
  "metadata": {
    "colab": {
      "name": "Pertemuan6.ipynb",
      "provenance": [],
      "authorship_tag": "ABX9TyOuC25Dk/KTLqwHy21bBwFp",
      "include_colab_link": true
    },
    "kernelspec": {
      "name": "python3",
      "display_name": "Python 3"
    },
    "language_info": {
      "name": "python"
    }
  },
  "cells": [
    {
      "cell_type": "markdown",
      "metadata": {
        "id": "view-in-github",
        "colab_type": "text"
      },
      "source": [
        "<a href=\"https://colab.research.google.com/github/irwanmaulana42/google-collab/blob/master/Pertemuan6.ipynb\" target=\"_parent\"><img src=\"https://colab.research.google.com/assets/colab-badge.svg\" alt=\"Open In Colab\"/></a>"
      ]
    },
    {
      "cell_type": "markdown",
      "source": [
        "Nama: Irwan Maulana"
      ],
      "metadata": {
        "id": "_5MAkhWaotpN"
      }
    },
    {
      "cell_type": "code",
      "execution_count": 3,
      "metadata": {
        "colab": {
          "base_uri": "https://localhost:8080/",
          "height": 334
        },
        "id": "t6U8k5zMoqAP",
        "outputId": "d3413484-c205-4139-926b-533c3fe0cecb"
      },
      "outputs": [
        {
          "output_type": "stream",
          "name": "stdout",
          "text": [
            "[[27.75       55.        ]\n",
            " [43.2        16.7       ]\n",
            " [30.83333333 74.66666667]\n",
            " [55.1        46.1       ]]\n"
          ]
        },
        {
          "output_type": "display_data",
          "data": {
            "text/plain": [
              "<Figure size 432x288 with 1 Axes>"
            ],
            "image/png": "[encoded data removed]"
          },
          "metadata": {
            "needs_background": "light"
          }
        }
      ],
      "source": [
        "from pandas import DataFrame\n",
        "import matplotlib.pyplot as plt\n",
        "from sklearn.cluster import KMeans\n",
        "\n",
        "Data = {\n",
        "    'x': [25,34,22,27,33,33,31,22,35,34,67,54,57,43,50,57,59,52,65,47,49,48,35,33,44,45,38,43,51,46],\n",
        "    'y': [79,51,53,78,59,74,73,57,69,75,51,32,40,47,53,36,35,58,59,50,25,20,14,12,20,5,29,27,8,7]\n",
        "}\n",
        "\n",
        "df = DataFrame(Data, columns=['x','y'])\n",
        "\n",
        "kmeans = KMeans(n_clusters=4).fit(df)\n",
        "centroids = kmeans.cluster_centers_\n",
        "print(centroids)\n",
        "\n",
        "plt.scatter(df['x'], df['y'], c = kmeans.labels_.astype(float), s=50, alpha=0.5)\n",
        "plt.scatter(centroids[:, 0], centroids[:, 1], c='red', s=50)\n",
        "plt.show()"
      ]
    },
    {
      "cell_type": "code",
      "source": [
        "from sklearn.linear_model import Perceptron\n",
        "\n",
        "X = [[5.1, 3.5, 1.4, 0.2],\n",
        "     [4.9, 3.0, 1.4, 0.2],\n",
        "     [7.0, 3.2, 4.7, 1.4],\n",
        "     [6.4, 3.2, 4.5, 1.5],\n",
        "     [6.3, 3.3, 6.0, 2.5],\n",
        "     [5.8, 2.7, 5.1, 1.9]]\n",
        "\n",
        "y = ['setosa', 'setosa', 'versicolor', 'versicolor', 'virginica', 'virginica']\n",
        "\n",
        "per_clf = Perceptron()\n",
        "per_clf.fit(X, y)\n",
        "\n",
        "unlabelled = [[6.5, 2.7, 5.1, 1.9]]\n",
        "\n",
        "y_pred = per_clf.predict(unlabelled)\n",
        "print(y_pred)"
      ],
      "metadata": {
        "colab": {
          "base_uri": "https://localhost:8080/"
        },
        "id": "f0TWOe_tqLbI",
        "outputId": "37848ef1-dda0-438f-c4a7-f49bfe01425c"
      },
      "execution_count": 4,
      "outputs": [
        {
          "output_type": "stream",
          "name": "stdout",
          "text": [
            "['virginica']\n"
          ]
        }
      ]
    }
  ]
}