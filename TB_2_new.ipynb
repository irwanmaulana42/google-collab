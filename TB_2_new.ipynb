{
  "nbformat": 4,
  "nbformat_minor": 0,
  "metadata": {
    "colab": {
      "name": "TB 2.ipynb",
      "provenance": [],
      "collapsed_sections": [],
      "authorship_tag": "ABX9TyNd5sbBj+SQFqcro3B49gIQ",
      "include_colab_link": true
    },
    "kernelspec": {
      "name": "python3",
      "display_name": "Python 3"
    },
    "language_info": {
      "name": "python"
    }
  },
  "cells": [
    {
      "cell_type": "markdown",
      "metadata": {
        "id": "view-in-github",
        "colab_type": "text"
      },
      "source": [
        "<a href=\"https://colab.research.google.com/github/irwanmaulana42/google-collab/blob/TB2/TB_2_new.ipynb\" target=\"_parent\"><img src=\"https://colab.research.google.com/assets/colab-badge.svg\" alt=\"Open In Colab\"/></a>"
      ]
    },
    {
      "cell_type": "markdown",
      "source": [
        "# TB 2"
      ],
      "metadata": {
        "id": "WkNfh-DdAyYe"
      }
    },
    {
      "cell_type": "markdown",
      "source": [
        "**Metode Algoritma k-NN**"
      ],
      "metadata": {
        "id": "QYdQc8cHbDoz"
      }
    },
    {
      "cell_type": "code",
      "execution_count": null,
      "metadata": {
        "colab": {
          "base_uri": "https://localhost:8080/"
        },
        "id": "XJaL0wbmAuQp",
        "outputId": "b6d541a7-384f-4650-ef04-fc45055c898a"
      },
      "outputs": [
        {
          "output_type": "stream",
          "name": "stdout",
          "text": [
            "Metode k-NN dengan nilai K =  4\n",
            "\n",
            "   Training Accuracy\n",
            "0           0.771930\n",
            "1           0.912281\n",
            "2           0.929825\n",
            "3           0.859649\n",
            "4           0.964912\n",
            "5           0.947368\n",
            "6           0.947368\n",
            "7           0.964912\n",
            "8           0.912281\n",
            "9           0.964286\n",
            "\n",
            "   Nilai Rata-rata\n",
            "0         0.917481\n",
            "\n",
            "   Standar Deviasi\n",
            "0         0.060748\n"
          ]
        }
      ],
      "source": [
        "import pandas as pd\n",
        "import numpy as np\n",
        "import json\n",
        "from sklearn.model_selection import KFold\n",
        "from sklearn.model_selection import train_test_split\n",
        "from sklearn.neighbors import KNeighborsClassifier\n",
        "from sklearn import preprocessing\n",
        "import statistics\n",
        "\n",
        "df_new = pd.read_csv('https://raw.githubusercontent.com/irwanmaulana42/google-collab/master/dataset_breast_cancer_wisconsin_tb2.csv', header=None, dtype=None, skiprows=1)\n",
        "# pd.DataFrame(data=df_new)\n",
        "label = df_new[1].to_numpy()\n",
        "data = df_new.iloc[:,2:len(df_new)-1].to_numpy()\n",
        "\n",
        "kf = KFold(n_splits=10)\n",
        "nilai_k = 4\n",
        "clf = KNeighborsClassifier(n_neighbors=nilai_k)\n",
        "\n",
        "print(\"Metode k-NN dengan nilai K = \", nilai_k)\n",
        "print(\"\")\n",
        "\n",
        "dataTemp = list();\n",
        "for train_index, test_index in kf.split(data):\n",
        "  X_train, X_test = data[train_index], data[test_index]\n",
        "  y_train, y_test = label[train_index], label[test_index]\n",
        "\n",
        "  clf.fit(X_train, y_train)\n",
        "  res = clf.score(X_test, y_test)\n",
        "  dataTemp.append(res)\n",
        "\n",
        "t1 = pd.DataFrame(data=dataTemp, columns=['Training Accuracy'])\n",
        "print(t1)\n",
        "print(\"\")\n",
        "\n",
        "# rata-rata\n",
        "mean = list()\n",
        "mean.append(statistics.mean(dataTemp))\n",
        "t2 = pd.DataFrame(data=mean, columns=['Nilai Rata-rata'])\n",
        "print(t2)\n",
        "print(\"\")\n",
        "\n",
        "# Standar Deviasi\n",
        "stdev = list()\n",
        "stdev.append(statistics.stdev(dataTemp))\n",
        "t3 = pd.DataFrame(data=stdev, columns=['Standar Deviasi'])\n",
        "print(t3)"
      ]
    },
    {
      "cell_type": "markdown",
      "source": [
        "**Metode Algoritma Decision Tree**"
      ],
      "metadata": {
        "id": "GWO9xFFKa5hC"
      }
    },
    {
      "cell_type": "code",
      "source": [
        ""
      ],
      "metadata": {
        "id": "bdVHseKCPl6v"
      },
      "execution_count": null,
      "outputs": []
    },
    {
      "cell_type": "code",
      "source": [
        "import pandas as pd\n",
        "import numpy as np\n",
        "import json\n",
        "from sklearn.model_selection import KFold\n",
        "from sklearn.model_selection import train_test_split\n",
        "from sklearn.tree import DecisionTreeClassifier\n",
        "from sklearn import preprocessing\n",
        "import statistics\n",
        "from sklearn.model_selection import GridSearchCV\n",
        "\n",
        "df_new = pd.read_csv('https://raw.githubusercontent.com/irwanmaulana42/google-collab/master/dataset_breast_cancer_wisconsin_tb2.csv', header=None, dtype=None, skiprows=1)\n",
        "\n",
        "label = df_new[1].to_numpy()\n",
        "data = df_new.iloc[:,2:len(df_new)-1].to_numpy()\n",
        "\n",
        "param_grid = {'max_depth': np.arange(1, 30)}\n",
        "\n",
        "kf = KFold(n_splits=10)\n",
        "\n",
        "clf = DecisionTreeClassifier(max_depth=4)\n",
        "\n",
        "print(\"Metode Algoritma Decision Tree\")\n",
        "print(\"\")\n",
        "\n",
        "dt_clf = GridSearchCV(DecisionTreeClassifier(), param_grid, scoring='f1_macro')\n",
        "\n",
        "dataTemp = list();\n",
        "dataTempBest = list();\n",
        "\n",
        "for train_index, test_index in kf.split(data):\n",
        "  X_train, X_test = data[train_index], data[test_index]\n",
        "  y_train, y_test = label[train_index], label[test_index]\n",
        "\n",
        "  clf.fit(X_train, y_train)\n",
        "  res = clf.score(X_test, y_test)\n",
        "  dataTemp.append(res)\n",
        "\n",
        "  dt_clf.fit(X_train, y_train)\n",
        "  res_best = dt_clf.score(X_test, y_test)\n",
        "  print(\"Training data with GridSearch : \", {\"score\": res_best, 'max_depth': dt_clf.best_params_})\n",
        "  dataTempBest.append(res_best)\n",
        "\n",
        "t1 = pd.DataFrame(data=dataTemp, columns=['Training Accuracy'])\n",
        "t1_2 = pd.DataFrame(data=dataTempBest, columns=['Training Accuracy with GridSearch'])\n",
        "print(t1)\n",
        "print(t1_2)\n",
        "t1.plot()\n",
        "t1_2.plot()\n",
        "print(\"\")\n",
        "\n",
        "# rata-rata\n",
        "mean = list()\n",
        "mean_new = list();\n",
        "mean.append(statistics.mean(dataTemp))\n",
        "mean_new.append(statistics.mean(dataTempBest))\n",
        "t2 = pd.DataFrame(data=mean, columns=['Nilai Rata-rata'])\n",
        "t2_2 = pd.DataFrame(data=mean_new, columns=['Nilai Rata-rata with GridSearch'])\n",
        "print(t2)\n",
        "print(t2_2)\n",
        "print(\"\")\n",
        "\n",
        "# Standar Deviasi\n",
        "stdev = list()\n",
        "stdev_new = list()\n",
        "stdev.append(statistics.stdev(dataTemp))\n",
        "stdev_new.append(statistics.stdev(dataTempBest))\n",
        "t3 = pd.DataFrame(data=stdev, columns=['Standar Deviasi'])\n",
        "t3_2 = pd.DataFrame(data=stdev_new, columns=['Standar Deviasi with GridSearch'])\n",
        "print(t3)\n",
        "print(t3_2)"
      ],
      "metadata": {
        "colab": {
          "base_uri": "https://localhost:8080/",
          "height": 1000
        },
        "id": "ApPV85ipa4Av",
        "outputId": "f7124d9b-74bb-4848-9c3a-80a36b8a2d80"
      },
      "execution_count": 58,
      "outputs": [
        {
          "output_type": "stream",
          "name": "stdout",
          "text": [
            "Metode Algoritma Decision Tree\n",
            "\n",
            "Training data with GridSearch :  {'score': 0.8006218422075398, 'max_depth': {'max_depth': 3}}\n",
            "Training data with GridSearch :  {'score': 0.9066491975106452, 'max_depth': {'max_depth': 5}}\n",
            "Training data with GridSearch :  {'score': 0.8869047619047619, 'max_depth': {'max_depth': 24}}\n",
            "Training data with GridSearch :  {'score': 0.9473035439137134, 'max_depth': {'max_depth': 5}}\n",
            "Training data with GridSearch :  {'score': 0.9296296296296296, 'max_depth': {'max_depth': 3}}\n",
            "Training data with GridSearch :  {'score': 0.9472222222222222, 'max_depth': {'max_depth': 20}}\n",
            "Training data with GridSearch :  {'score': 0.89337822671156, 'max_depth': {'max_depth': 3}}\n",
            "Training data with GridSearch :  {'score': 0.9526578073089702, 'max_depth': {'max_depth': 6}}\n",
            "Training data with GridSearch :  {'score': 0.9526578073089702, 'max_depth': {'max_depth': 5}}\n",
            "Training data with GridSearch :  {'score': 0.8998211091234347, 'max_depth': {'max_depth': 5}}\n",
            "   Training Accuracy\n",
            "0           0.877193\n",
            "1           0.894737\n",
            "2           0.894737\n",
            "3           0.929825\n",
            "4           0.947368\n",
            "5           0.982456\n",
            "6           0.929825\n",
            "7           0.982456\n",
            "8           0.982456\n",
            "9           0.928571\n",
            "   Training Accuracy with GridSearch\n",
            "0                           0.800622\n",
            "1                           0.906649\n",
            "2                           0.886905\n",
            "3                           0.947304\n",
            "4                           0.929630\n",
            "5                           0.947222\n",
            "6                           0.893378\n",
            "7                           0.952658\n",
            "8                           0.952658\n",
            "9                           0.899821\n",
            "\n",
            "   Nilai Rata-rata\n",
            "0         0.934962\n",
            "   Nilai Rata-rata with GridSearch\n",
            "0                         0.911685\n",
            "\n",
            "   Standar Deviasi\n",
            "0         0.038856\n",
            "   Standar Deviasi with GridSearch\n",
            "0                          0.04674\n"
          ]
        },
        {
          "output_type": "display_data",
          "data": {
            "text/plain": [
              "<Figure size 432x288 with 1 Axes>"
            ],
            "image/png": "[encoded data removed]"
          },
          "metadata": {
            "needs_background": "light"
          }
        },
        {
          "output_type": "display_data",
          "data": {
            "text/plain": [
              "<Figure size 432x288 with 1 Axes>"
            ],
            "image/png": "[encoded data removed]"
          },
          "metadata": {
            "needs_background": "light"
          }
        }
      ]
    },
    {
      "cell_type": "markdown",
      "source": [
        "**Metode Algoritma Perceptron**"
      ],
      "metadata": {
        "id": "y56ws1c01Uu4"
      }
    },
    {
      "cell_type": "code",
      "source": [
        "import pandas as pd\n",
        "import numpy as np\n",
        "import json\n",
        "from sklearn.model_selection import KFold\n",
        "from sklearn.model_selection import train_test_split\n",
        "from sklearn.linear_model import Perceptron\n",
        "from sklearn import preprocessing\n",
        "import statistics\n",
        "\n",
        "df_new = pd.read_csv('https://raw.githubusercontent.com/irwanmaulana42/google-collab/master/dataset_breast_cancer_wisconsin_tb2.csv', header=None, dtype=None, skiprows=1)\n",
        "\n",
        "label = df_new[1].to_numpy()\n",
        "data = df_new.iloc[:,2:len(df_new)-1].to_numpy()\n",
        "\n",
        "kf = KFold(n_splits=10)\n",
        "\n",
        "clf = Perceptron(tol=1e-3, random_state=0)\n",
        "\n",
        "print(\"Metode Algoritma Perceptron\")\n",
        "print(\"\")\n",
        "\n",
        "dataTemp = list();\n",
        "for train_index, test_index in kf.split(data):\n",
        "  X_train, X_test = data[train_index], data[test_index]\n",
        "  y_train, y_test = label[train_index], label[test_index]\n",
        "\n",
        "  clf.fit(X_train, y_train)\n",
        "  res = clf.score(X_test, y_test)\n",
        "  dataTemp.append(res)\n",
        "\n",
        "t1 = pd.DataFrame(data=dataTemp, columns=['Training Accuracy'])\n",
        "print(t1)\n",
        "print(\"\")\n",
        "\n",
        "# rata-rata\n",
        "mean = list()\n",
        "mean.append(statistics.mean(dataTemp))\n",
        "t2 = pd.DataFrame(data=mean, columns=['Nilai Rata-rata'])\n",
        "print(t2)\n",
        "print(\"\")\n",
        "\n",
        "# Standar Deviasi\n",
        "stdev = list()\n",
        "stdev.append(statistics.stdev(dataTemp))\n",
        "t3 = pd.DataFrame(data=stdev, columns=['Standar Deviasi'])\n",
        "print(t3)"
      ],
      "metadata": {
        "colab": {
          "base_uri": "https://localhost:8080/"
        },
        "id": "jLYtzF6q1YBg",
        "outputId": "428f8c0d-12a6-48a7-a852-0c07610b496a"
      },
      "execution_count": null,
      "outputs": [
        {
          "output_type": "stream",
          "name": "stdout",
          "text": [
            "Metode Algoritma Perceptron\n",
            "\n",
            "   Training Accuracy\n",
            "0           0.701754\n",
            "1           0.894737\n",
            "2           0.929825\n",
            "3           0.842105\n",
            "4           0.877193\n",
            "5           0.877193\n",
            "6           0.912281\n",
            "7           0.982456\n",
            "8           0.859649\n",
            "9           0.857143\n",
            "\n",
            "   Nilai Rata-rata\n",
            "0         0.873434\n",
            "\n",
            "   Standar Deviasi\n",
            "0         0.073005\n"
          ]
        }
      ]
    }
  ]
}