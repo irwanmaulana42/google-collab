{
  "cells": [
    {
      "cell_type": "markdown",
      "metadata": {
        "id": "view-in-github",
        "colab_type": "text"
      },
      "source": [
        "<a href=\"https://colab.research.google.com/github/irwanmaulana42/google-collab/blob/master/Pertemuan_3.ipynb\" target=\"_parent\"><img src=\"https://colab.research.google.com/assets/colab-badge.svg\" alt=\"Open In Colab\"/></a>"
      ]
    },
    {
      "cell_type": "markdown",
      "source": [
        "**Pertemuan 3**"
      ],
      "metadata": {
        "id": "nKLztWrTMFaS"
      }
    },
    {
      "cell_type": "code",
      "source": [
        "from sklearn.tree import DecisionTreeClassifier\n",
        "\n",
        "X_train = [[2,2,50], [2,2,45], [4,0,300], [4,0,255]]\n",
        "Y_train = [\"manusia\", \"manusia\", \"sapi\", \"sapi\"]\n",
        "\n",
        "tree = DecisionTreeClassifier()\n",
        "\n",
        "tree.fit(X_train, Y_train)\n",
        "\n",
        "unlabelled = [[2,2,30], [4,0,332], [2,2,150]]\n",
        "\n",
        "hasil = tree.predict(unlabelled)\n",
        "\n",
        "print(hasil)"
      ],
      "metadata": {
        "colab": {
          "base_uri": "https://localhost:8080/"
        },
        "id": "EM0oZmgmMFMG",
        "outputId": "cf5a0028-7290-472d-8927-f3be101ef204"
      },
      "execution_count": 1,
      "outputs": [
        {
          "output_type": "stream",
          "name": "stdout",
          "text": [
            "['manusia' 'sapi' 'manusia']\n"
          ]
        }
      ]
    }
  ],
  "metadata": {
    "colab": {
      "collapsed_sections": [],
      "name": "Pertemuan 3.ipynb",
      "provenance": [],
      "include_colab_link": true
    },
    "kernelspec": {
      "display_name": "Python 3",
      "name": "python3"
    }
  },
  "nbformat": 4,
  "nbformat_minor": 0
}